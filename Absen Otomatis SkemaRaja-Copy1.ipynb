{
 "cells": [
  {
   "cell_type": "code",
   "execution_count": 1,
   "metadata": {
    "scrolled": true
   },
   "outputs": [],
   "source": [
    "#pip install numpy"
   ]
  },
  {
   "cell_type": "code",
   "execution_count": 13,
   "metadata": {},
   "outputs": [],
   "source": [
    "from selenium import webdriver\n",
    "from selenium.webdriver.chrome.options import Options\n",
    "from selenium.webdriver.support.ui import WebDriverWait\n",
    "from selenium.webdriver.support import expected_conditions as EC\n",
    "from selenium.webdriver.common.by import By\n",
    "from selenium.common.exceptions import TimeoutException\n",
    "from selenium.webdriver.support.ui import Select\n",
    "from bs4 import BeautifulSoup\n",
    "from selenium.webdriver.remote.webelement import WebElement\n",
    "import pandas as pd\n",
    "import time"
   ]
  },
  {
   "cell_type": "code",
   "execution_count": 14,
   "metadata": {},
   "outputs": [],
   "source": [
    "chrome_options = Options()\n",
    "chrome_options.add_experimental_option(\"prefs\", {\n",
    "  \"download.default_directory\": r\"C:\\Users\\istyw\\Documents\\absen\",\n",
    "  \"download.prompt_for_download\": False,\n",
    "  \"download.directory_upgrade\": True,\n",
    "  \"safebrowsing.enabled\": False\n",
    "})"
   ]
  },
  {
   "cell_type": "code",
   "execution_count": 15,
   "metadata": {},
   "outputs": [],
   "source": [
    "from selenium import webdriver\n",
    "from selenium.webdriver.chrome.service import Service\n",
    "\n",
    "service = Service(executable_path=r'C:/Users/istyw/Documents/absen/chromedriver.exe')\n",
    "options = webdriver.ChromeOptions()\n",
    "options.add_argument('--no-sandbox')\n",
    "options.add_argument('--disable-dev-shm-usage')\n",
    "driver = webdriver.Chrome(service=service,options=options)\n",
    "driver.maximize_window()"
   ]
  },
  {
   "cell_type": "code",
   "execution_count": 16,
   "metadata": {},
   "outputs": [],
   "source": [
    "driver.get('https://skemaraja.dephub.go.id/')\n",
    "\n"
   ]
  },
  {
   "cell_type": "code",
   "execution_count": 17,
   "metadata": {},
   "outputs": [],
   "source": [
    "status_wfh=\"wfo\"\n",
    "#status_wfh=str(input())\n"
   ]
  },
  {
   "cell_type": "code",
   "execution_count": 18,
   "metadata": {},
   "outputs": [],
   "source": [
    "if status_wfh==\"wfh\":\n",
    "    status_wfh=\"Work From Home\"\n",
    "if status_wfh==\"wfo\":\n",
    "    status_wfh==\"Work From Office\"\n",
    "else:\n",
    "    status_wfh==\"Dinas Luar\""
   ]
  },
  {
   "cell_type": "code",
   "execution_count": 19,
   "metadata": {},
   "outputs": [],
   "source": [
    "driver.find_element(By.NAME,\"nip\").send_keys('199804172020122006')\n",
    "time.sleep(4)\n",
    "driver.find_element(By.NAME,\"password\").send_keys('lina1998')\n",
    "time.sleep(4)\n",
    "select=Select(driver.find_element(By.NAME,\"status_wfh\"))\n",
    "time.sleep(4)\n",
    "\n"
   ]
  },
  {
   "cell_type": "code",
   "execution_count": 20,
   "metadata": {},
   "outputs": [],
   "source": [
    "\n",
    "if status_wfh==\"wfh\":\n",
    "    select.select_by_value('1')\n",
    "    l=driver.find_element(By.XPATH,\"//*[@id='btnSubmit']\");\n",
    "    l.click();\n",
    "if status_wfh==\"wfo\":\n",
    "    select.select_by_value('2')\n",
    "    driver.find_element(By.XPATH,\"//*[@id='shift_2']\").click();\n",
    "    time.sleep(4)\n",
    "    l=driver.find_element(By.XPATH,\"//*[@id='btnSubmit']\");\n",
    "    l.click();\n",
    "else:\n",
    "    select.select_by_value('3')\n",
    "    l=driver.find_element(By.XPATH,\"//*[@id='btnSubmit']\");\n",
    "    l.click();\n",
    "\n"
   ]
  },
  {
   "cell_type": "code",
   "execution_count": 21,
   "metadata": {},
   "outputs": [],
   "source": [
    "from datetime import datetime\n",
    "datenow=datetime.now()\n",
    "timenow=datenow.strftime(\"%H\")\n",
    "timenow=int(timenow)\n"
   ]
  },
  {
   "cell_type": "code",
   "execution_count": 22,
   "metadata": {},
   "outputs": [],
   "source": [
    "import time\n",
    "if datenow.weekday()==0:\n",
    "    driver.find_element(By.XPATH,\"/html/body/div/div/div[2]/div/div[2]/div/form/div/div[3]/button\").click();\n",
    "    time.sleep(8)\n",
    "if timenow<12:\n",
    "    driver.find_element(By.NAME,\"p1_suhu\").send_keys('36')\n",
    "    driver.find_element(By.XPATH,\"/html/body/div/div/div[2]/div/div[2]/div/form/div/div[2]/div/div/table/tbody/tr[1]/td[4]/input\").click()\n",
    "    time.sleep(4)\n",
    "    driver.find_element(By.XPATH,\"/html/body/div/div/div[2]/div/div[2]/div/form/div/div[2]/div/div/table/tbody/tr[2]/td[4]/input\").click()\n",
    "    time.sleep(4)\n",
    "    driver.find_element(By.XPATH,\"/html/body/div/div/div[2]/div/div[2]/div/form/div/div[2]/div/div/table/tbody/tr[3]/td[4]/input\").click()\n",
    "    time.sleep(4)\n",
    "    driver.find_element(By.XPATH,\"/html/body/div/div/div[2]/div/div[2]/div/form/div/div[2]/div/div/table/tbody/tr[4]/td[4]/input\").click()\n",
    "    time.sleep(4)\n",
    "    driver.find_element(By.XPATH,\"/html/body/div/div/div[2]/div/div[2]/div/form/div/div[2]/div/div/table/tbody/tr[5]/td[4]/input\").click()\n",
    "    time.sleep(4)\n",
    "    driver.find_element(By.XPATH,\"/html/body/div/div/div[2]/div/div[2]/div/form/div/div[2]/div/div/table/tbody/tr[6]/td[4]/input\").click()\n",
    "    time.sleep(4)\n",
    "    driver.find_element(By.XPATH,\"/html/body/div/div/div[2]/div/div[2]/div/form/div/div[2]/div/div/table/tbody/tr[7]/td[4]/input\").click()\n",
    "    time.sleep(4)\n",
    "    driver.find_element(By.XPATH,\"/html/body/div/div/div[2]/div/div[2]/div/form/div/div[2]/div/div/table/tbody/tr[8]/td[4]/input\").click()\n",
    "    time.sleep(4)\n",
    "    driver.find_element(By.XPATH,\"/html/body/div/div/div[2]/div/div[2]/div/form/div/div[2]/div/div/table/tbody/tr[9]/td[4]/input\").click()\n",
    "    time.sleep(4)\n",
    "    driver.find_element(By.XPATH,\"/html/body/div/div/div[2]/div/div[2]/div/form/div/div[3]/button\").click();\n",
    "    time.sleep(8)\n",
    "\n",
    "\n",
    "\n",
    "\n"
   ]
  },
  {
   "cell_type": "code",
   "execution_count": 46,
   "metadata": {},
   "outputs": [],
   "source": [
    "    #driver.find_element(By.XPATH,\"/html/body/div/div/div[2]/div/div[2]/div/form/div/div[2]/div/div/table/tbody/tr[3]/td[4]/input\").click()\n"
   ]
  },
  {
   "cell_type": "code",
   "execution_count": 11,
   "metadata": {},
   "outputs": [],
   "source": [
    "x = datenow.weekday()"
   ]
  },
  {
   "cell_type": "code",
   "execution_count": 12,
   "metadata": {},
   "outputs": [
    {
     "data": {
      "text/plain": [
       "0"
      ]
     },
     "execution_count": 12,
     "metadata": {},
     "output_type": "execute_result"
    }
   ],
   "source": [
    "x"
   ]
  },
  {
   "cell_type": "code",
   "execution_count": null,
   "metadata": {},
   "outputs": [],
   "source": []
  }
 ],
 "metadata": {
  "kernelspec": {
   "display_name": "Python 3 (ipykernel)",
   "language": "python",
   "name": "python3"
  },
  "language_info": {
   "codemirror_mode": {
    "name": "ipython",
    "version": 3
   },
   "file_extension": ".py",
   "mimetype": "text/x-python",
   "name": "python",
   "nbconvert_exporter": "python",
   "pygments_lexer": "ipython3",
   "version": "3.11.4"
  }
 },
 "nbformat": 4,
 "nbformat_minor": 4
}
